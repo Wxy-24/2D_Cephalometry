{
  "nbformat": 4,
  "nbformat_minor": 0,
  "metadata": {
    "accelerator": "GPU",
    "colab": {
      "name": "gnathion.ipynb",
      "provenance": [],
      "collapsed_sections": [],
      "machine_shape": "hm"
    },
    "kernelspec": {
      "display_name": "Python 3",
      "language": "python",
      "name": "python3"
    },
    "language_info": {
      "codemirror_mode": {
        "name": "ipython",
        "version": 3
      },
      "file_extension": ".py",
      "mimetype": "text/x-python",
      "name": "python",
      "nbconvert_exporter": "python",
      "pygments_lexer": "ipython3",
      "version": "3.7.4"
    }
  },
  "cells": [
    {
      "cell_type": "markdown",
      "metadata": {
        "_uuid": "f0cabcad77a2253757f400696d74a8a30c2e4cc9",
        "colab_type": "text",
        "id": "5jmtqQTNi_Nk"
      },
      "source": [
        "# **cephalometry project:**\n",
        "## **2D cephalometry landmark localization with FCN heatmap prediction**\n",
        "\n",
        "\n",
        "\n"
      ]
    },
    {
      "cell_type": "markdown",
      "metadata": {
        "_uuid": "3ce2b3bf606c3bf06d9f61249f580a55812f9e42",
        "colab_type": "text",
        "id": "doqWzi26i_Nm"
      },
      "source": [
        "# Step 1 : Auxiliary steps\n",
        "\n",
        " importing essential python libraries"
      ]
    },
    {
      "cell_type": "code",
      "metadata": {
        "_cell_guid": "b1076dfc-b9ad-4769-8c92-a6c4dae69d19",
        "_uuid": "8f2839f25d086af736a60e9eeb907d3b93b6e0e5",
        "colab_type": "code",
        "id": "wQzaGiezi_No",
        "colab": {}
      },
      "source": [
        "%matplotlib inline\n",
        "import cv2\n",
        "import sys\n",
        "import tensorflow as tf\n",
        "import numpy as np\n",
        "import skimage.io as io\n",
        "import os\n",
        "from sklearn.model_selection import train_test_split\n",
        "from math import*\n",
        "from tensorflow.keras.models import *\n",
        "from tensorflow.keras.layers import *\n",
        "from tensorflow.keras.optimizers import *\n",
        "from tensorflow.keras.callbacks import *\n",
        "import keras\n",
        "from keras import backend as K\n",
        "from keras.preprocessing.image import ImageDataGenerator\n",
        "import matplotlib.pyplot as plt\n",
        "from scipy.ndimage.interpolation import zoom\n",
        "from scipy.stats import multivariate_normal"
      ],
      "execution_count": 0,
      "outputs": []
    },
    {
      "cell_type": "markdown",
      "metadata": {
        "_uuid": "c170def1ed6bd1e279dc6d5ae86a95cf6cfd2efb",
        "colab_type": "text",
        "id": "J78Y6OhRi_Nx"
      },
      "source": [
        "# Step 2 : Creating dataset"
      ]
    },
    {
      "cell_type": "markdown",
      "metadata": {
        "id": "vp2UdlQ09YRp",
        "colab_type": "text"
      },
      "source": [
        "Generate Heatmap"
      ]
    },
    {
      "cell_type": "code",
      "metadata": {
        "id": "LxgAt9DM9dMZ",
        "colab_type": "code",
        "colab": {}
      },
      "source": [
        "def cal_sigma(dmax, edge_value):\n",
        "    return sqrt(- pow(dmax, 2) / log(edge_value))\n",
        "\n",
        "def gaussian(array_like_hm, mean, sigma):\n",
        "    \"\"\"modified version normal distribution pdf, vector version\"\"\"\n",
        "    array_like_hm -= mean\n",
        "    x_term = array_like_hm[:, 0] ** 2\n",
        "    y_term = array_like_hm[:, 1] ** 2\n",
        "    exp_value = - (x_term + y_term) / 2 / pow(sigma, 2)\n",
        "    return np.exp(exp_value)\n",
        "\n",
        "def draw_heatmap(width, height, x, y, sigma, array_like_hm):\n",
        "    m1 = (x, y)\n",
        "    s1 = np.eye(2) * pow(sigma, 2)\n",
        "    # k1 = multivariate_normal(mean=m1, cov=593.109206084)\n",
        "    k1 = multivariate_normal(mean=m1, cov=s1)\n",
        "    #     zz = k1.pdf(array_like_hm)\n",
        "    zz = gaussian(array_like_hm, m1, sigma)\n",
        "    img = zz.reshape((height, width))\n",
        "    return img\n",
        "\n",
        "def test(width, height, x, y, array_like_hm):\n",
        "    dmax = 100\n",
        "    edge_value = 0.01\n",
        "    sigma = cal_sigma(dmax, edge_value)\n",
        "\n",
        "    return draw_heatmap(width, height, x, y, sigma, array_like_hm)"
      ],
      "execution_count": 0,
      "outputs": []
    },
    {
      "cell_type": "markdown",
      "metadata": {
        "id": "aaAF9m-N9975",
        "colab_type": "text"
      },
      "source": [
        "Create Dataset"
      ]
    },
    {
      "cell_type": "code",
      "metadata": {
        "_cell_guid": "79c7e3d0-c299-4dcb-8224-4455121ee9b0",
        "_uuid": "d629ff2d2480ee46fbb7e2d37f6b5fab8052498a",
        "colab_type": "code",
        "id": "vdjg_1sLi_Ny",
        "colab": {}
      },
      "source": [
        "xres = 480\n",
        "yres = 544\n",
        "x = np.arange(xres, dtype=np.float)\n",
        "y = np.arange(yres, dtype=np.float)\n",
        "xx, yy = np.meshgrid(x, y)\n",
        "\n",
        "# evaluate kernels at grid points\n",
        "xxyy = np.c_[xx.ravel(), yy.ravel()]\n",
        "\n",
        "#create dataset\n",
        "train=[]\n",
        "heatmap=[]\n",
        "label=[]\n",
        "for i in range(1,301):\n",
        "    img = io.imread(os.path.join(\"drive/My Drive/2d_heatmap/RawImage/TrainingData\", \"%d_crop.bmp\" % i),)\n",
        "    img=img[0:2176,:]\n",
        "    img = zoom(img, zoom=0.25, order=1)\n",
        "    train.append(img)\n",
        "\n",
        "for j in range(1,301):\n",
        "    f = open(os.path.join(\"drive/My Drive/Cephalometry_2d_final/400_senior\", \"%d.txt\" % j))\n",
        "    fp = open(os.path.join(\"drive/My Drive/Cephalometry_2d_final/400_junior\", \"%d.txt\" % j))\n",
        "    line=f.readlines()\n",
        "    linep=fp.readlines()\n",
        "    py=(int(line[8].split(',')[1])+int(linep[8].split(',')[1])-200)//8\n",
        "    px=(int(line[8].split(',')[0])+int(linep[8].split(',')[0]))//8\n",
        "    coordinate=np.array([px,py])\n",
        "    imga = test(xres, yres, px, py, xxyy.copy())\n",
        "    heatmap.append(imga)\n",
        "    label.append(coordinate)\n",
        "X_train=np.array(train)\n",
        "Y_train=np.array(heatmap)\n",
        "z_train=np.array(label)\n"
      ],
      "execution_count": 0,
      "outputs": []
    },
    {
      "cell_type": "markdown",
      "metadata": {
        "_uuid": "81603d003c5cea8f6e76a1bb69aa4c29a89eebc8",
        "colab_type": "text",
        "id": "b4tQaw_Zi_N2"
      },
      "source": [
        "# Step 3 :Train-Test split\n"
      ]
    },
    {
      "cell_type": "code",
      "metadata": {
        "_uuid": "68f34a08751a6e16569818ce8b18d9fca93223ad",
        "colab_type": "code",
        "id": "1UPP0YxYi_N3",
        "colab": {}
      },
      "source": [
        "X_train=np.expand_dims(X_train,axis=3)\n",
        "Y_train=np.expand_dims(Y_train,axis=3)\n",
        "x_train, x_test, y_train, y_test =train_test_split(X_train,Y_train, test_size=0.2, random_state=666)\n",
        "x_train, x_test, z_train, z_test =train_test_split(X_train,z_train, test_size=0.2, random_state=666)\n",
        "x_train, x_validate, y_train, y_validate =train_test_split(x_train,y_train, test_size=0.25, random_state=666)\n"
      ],
      "execution_count": 0,
      "outputs": []
    },
    {
      "cell_type": "markdown",
      "metadata": {
        "colab_type": "text",
        "id": "T99JnSma8En2"
      },
      "source": [
        "Check the shape of dataset"
      ]
    },
    {
      "cell_type": "code",
      "metadata": {
        "_uuid": "0de2d23671ac649a0e20f426fb891a4e8f7e903a",
        "colab_type": "code",
        "id": "85SJAhgii_N7",
        "outputId": "853acbb1-a2ee-4687-cf08-50ae1ace1a09",
        "colab": {
          "base_uri": "https://localhost:8080/",
          "height": 71
        }
      },
      "source": [
        "print(x_train.shape)#shape of original image\n",
        "print(y_test.shape)#shape of heatmaps\n",
        "print(z_test.shape)#shape of coordinates\n"
      ],
      "execution_count": 18,
      "outputs": [
        {
          "output_type": "stream",
          "text": [
            "(180, 544, 480, 1)\n",
            "(60, 544, 480, 1)\n",
            "(60, 2)\n"
          ],
          "name": "stdout"
        }
      ]
    },
    {
      "cell_type": "markdown",
      "metadata": {
        "_uuid": "759026191d74e7d94ac08d81121913d06a053a1d",
        "colab_type": "text",
        "id": "5N9MdkBbi_OT"
      },
      "source": [
        "# Step 4 : Define the model\n",
        "\n",
        "#U-net\n",
        "\n"
      ]
    },
    {
      "cell_type": "code",
      "metadata": {
        "id": "430HgHIWrWo0",
        "colab_type": "code",
        "colab": {}
      },
      "source": [
        "inputs = tf.keras.layers.Input((544,480,1))\n",
        "s = tf.keras.layers.Lambda(lambda x: x / 255)(inputs)\n",
        " \n",
        "c1 = tf.keras.layers.Conv2D(16, (3, 3), activation=tf.keras.activations.elu, kernel_initializer='he_normal',\n",
        "                            padding='same')(s)\n",
        "c1 = tf.keras.layers.Dropout(0.1)(c1)\n",
        "c1 = tf.keras.layers.Conv2D(16, (3, 3), activation=tf.keras.activations.elu, kernel_initializer='he_normal',\n",
        "                            padding='same')(c1)\n",
        "p1 = tf.keras.layers.MaxPooling2D((2, 2))(c1)\n",
        " \n",
        "c2 = tf.keras.layers.Conv2D(32, (3, 3), activation=tf.keras.activations.elu, kernel_initializer='he_normal',\n",
        "                            padding='same')(p1)\n",
        "c2 = tf.keras.layers.Dropout(0.1)(c2)\n",
        "c2 = tf.keras.layers.Conv2D(32, (3, 3), activation=tf.keras.activations.elu, kernel_initializer='he_normal',\n",
        "                            padding='same')(c2)\n",
        "p2 = tf.keras.layers.MaxPooling2D((2, 2))(c2)\n",
        " \n",
        "c3 = tf.keras.layers.Conv2D(64, (3, 3), activation=tf.keras.activations.elu, kernel_initializer='he_normal',\n",
        "                            padding='same')(p2)\n",
        "c3 = tf.keras.layers.Dropout(0.2)(c3)\n",
        "c3 = tf.keras.layers.Conv2D(64, (3, 3), activation=tf.keras.activations.elu, kernel_initializer='he_normal',\n",
        "                            padding='same')(c3)\n",
        "p3 = tf.keras.layers.MaxPooling2D((2, 2))(c3)\n",
        " \n",
        "c4 = tf.keras.layers.Conv2D(128, (3, 3), activation=tf.keras.activations.elu, kernel_initializer='he_normal',\n",
        "                            padding='same')(p3)\n",
        "c4 = tf.keras.layers.Dropout(0.2)(c4)\n",
        "c4 = tf.keras.layers.Conv2D(128, (3, 3), activation=tf.keras.activations.elu, kernel_initializer='he_normal',\n",
        "                            padding='same')(c4)\n",
        "p4 = tf.keras.layers.MaxPooling2D(pool_size=(2, 2))(c4)\n",
        " \n",
        "c5 = tf.keras.layers.Conv2D(256, (3, 3), activation=tf.keras.activations.elu, kernel_initializer='he_normal',\n",
        "                            padding='same')(p4)\n",
        "c5 = tf.keras.layers.Dropout(0.3)(c5)\n",
        "c5 = tf.keras.layers.Conv2D(256, (3, 3), activation=tf.keras.activations.elu, kernel_initializer='he_normal',\n",
        "                            padding='same')(c5)\n",
        " \n",
        "u6 = tf.keras.layers.Conv2DTranspose(128, (2, 2), strides=(2, 2), padding='same')(c5)\n",
        "u6 = tf.keras.layers.concatenate([u6, c4])\n",
        "c6 = tf.keras.layers.Conv2D(128, (3, 3), activation=tf.keras.activations.elu, kernel_initializer='he_normal',\n",
        "                            padding='same')(u6)\n",
        "c6 = tf.keras.layers.Dropout(0.2)(c6)\n",
        "c6 = tf.keras.layers.Conv2D(128, (3, 3), activation=tf.keras.activations.elu, kernel_initializer='he_normal',\n",
        "                            padding='same')(c6)\n",
        " \n",
        "u7 = tf.keras.layers.Conv2DTranspose(64, (2, 2), strides=(2, 2), padding='same')(c6)\n",
        "u7 = tf.keras.layers.concatenate([u7, c3])\n",
        "c7 = tf.keras.layers.Conv2D(64, (3, 3), activation=tf.keras.activations.elu, kernel_initializer='he_normal',\n",
        "                            padding='same')(u7)\n",
        "c7 = tf.keras.layers.Dropout(0.2)(c7)\n",
        "c7 = tf.keras.layers.Conv2D(64, (3, 3), activation=tf.keras.activations.elu, kernel_initializer='he_normal',\n",
        "                            padding='same')(c7)\n",
        " \n",
        "u8 = tf.keras.layers.Conv2DTranspose(32, (2, 2), strides=(2, 2), padding='same')(c7)\n",
        "u8 = tf.keras.layers.concatenate([u8, c2])\n",
        "c8 = tf.keras.layers.Conv2D(32, (3, 3), activation=tf.keras.activations.elu, kernel_initializer='he_normal',\n",
        "                            padding='same')(u8)\n",
        "c8 = tf.keras.layers.Dropout(0.1)(c8)\n",
        "c8 = tf.keras.layers.Conv2D(32, (3, 3), activation=tf.keras.activations.elu, kernel_initializer='he_normal',\n",
        "                            padding='same')(c8)\n",
        " \n",
        "u9 = tf.keras.layers.Conv2DTranspose(16, (2, 2), strides=(2, 2), padding='same')(c8)\n",
        "u9 = tf.keras.layers.concatenate([u9, c1], axis=3)\n",
        "c9 = tf.keras.layers.Conv2D(16, (3, 3), activation=tf.keras.activations.elu, kernel_initializer='he_normal',\n",
        "                            padding='same')(u9)\n",
        "c9 = tf.keras.layers.Dropout(0.1)(c9)\n",
        "c9 = tf.keras.layers.Conv2D(16, (3, 3), activation=tf.keras.activations.elu, kernel_initializer='he_normal',\n",
        "                            padding='same')(c9)\n",
        " \n",
        "outputs = tf.keras.layers.Conv2D(1, (1, 1), activation='sigmoid')(c9)\n",
        " \n",
        "model = tf.keras.Model(inputs=[inputs], outputs=[outputs])\n",
        "model.compile(optimizer='adam', loss='binary_crossentropy', metrics=['accuracy'])"
      ],
      "execution_count": 0,
      "outputs": []
    },
    {
      "cell_type": "markdown",
      "metadata": {
        "_uuid": "6e983d68b0a343bdf313ccb70c7cd38afd32c89b",
        "colab_type": "text",
        "id": "Bq0JLDJji_PV"
      },
      "source": [
        "# Step 5 : Training\n"
      ]
    },
    {
      "cell_type": "code",
      "metadata": {
        "_uuid": "3fe1228e7657f49d7323adc36c865790e9ac05eb",
        "colab_type": "code",
        "id": "QhF-jiF9i_PW",
        "outputId": "451f1b11-7704-4db7-d44a-eaebc4e932e2",
        "colab": {
          "base_uri": "https://localhost:8080/",
          "height": 1000
        }
      },
      "source": [
        "epochs = 50\n",
        "batch_size = 3\n",
        "history = model.fit(x_train,y_train, batch_size=batch_size,epochs = epochs, validation_data = (x_validate,y_validate),verbose = 1)"
      ],
      "execution_count": 21,
      "outputs": [
        {
          "output_type": "stream",
          "text": [
            "Train on 180 samples, validate on 60 samples\n",
            "Epoch 1/50\n",
            "180/180 [==============================] - 6s 32ms/sample - loss: 0.1485 - acc: 9.7869e-07 - val_loss: 0.1211 - val_acc: 1.9148e-06\n",
            "Epoch 2/50\n",
            "180/180 [==============================] - 5s 27ms/sample - loss: 0.1000 - acc: 2.9573e-06 - val_loss: 0.0985 - val_acc: 3.8297e-06\n",
            "Epoch 3/50\n",
            "180/180 [==============================] - 5s 27ms/sample - loss: 0.0844 - acc: 3.7020e-06 - val_loss: 0.1050 - val_acc: 3.8297e-06\n",
            "Epoch 4/50\n",
            "180/180 [==============================] - 5s 27ms/sample - loss: 0.0788 - acc: 3.7233e-06 - val_loss: 0.0952 - val_acc: 3.8297e-06\n",
            "Epoch 5/50\n",
            "180/180 [==============================] - 5s 26ms/sample - loss: 0.0744 - acc: 3.7871e-06 - val_loss: 0.0866 - val_acc: 3.7658e-06\n",
            "Epoch 6/50\n",
            "180/180 [==============================] - 5s 26ms/sample - loss: 0.0729 - acc: 3.7871e-06 - val_loss: 0.1673 - val_acc: 3.8297e-06\n",
            "Epoch 7/50\n",
            "180/180 [==============================] - 5s 26ms/sample - loss: 0.0723 - acc: 3.8084e-06 - val_loss: 0.1167 - val_acc: 3.8297e-06\n",
            "Epoch 8/50\n",
            "180/180 [==============================] - 5s 27ms/sample - loss: 0.0718 - acc: 3.8084e-06 - val_loss: 0.0818 - val_acc: 3.8297e-06\n",
            "Epoch 9/50\n",
            "180/180 [==============================] - 5s 26ms/sample - loss: 0.0720 - acc: 3.8084e-06 - val_loss: 0.0899 - val_acc: 3.8297e-06\n",
            "Epoch 10/50\n",
            "180/180 [==============================] - 5s 27ms/sample - loss: 0.0781 - acc: 3.6807e-06 - val_loss: 0.1116 - val_acc: 3.3829e-06\n",
            "Epoch 11/50\n",
            "180/180 [==============================] - 5s 27ms/sample - loss: 0.0898 - acc: 3.5318e-06 - val_loss: 0.0772 - val_acc: 3.8297e-06\n",
            "Epoch 12/50\n",
            "180/180 [==============================] - 5s 26ms/sample - loss: 0.0738 - acc: 3.8084e-06 - val_loss: 0.0749 - val_acc: 3.8297e-06\n",
            "Epoch 13/50\n",
            "180/180 [==============================] - 5s 27ms/sample - loss: 0.0716 - acc: 3.8297e-06 - val_loss: 0.0734 - val_acc: 3.8297e-06\n",
            "Epoch 14/50\n",
            "180/180 [==============================] - 5s 26ms/sample - loss: 0.0710 - acc: 3.8297e-06 - val_loss: 0.0795 - val_acc: 3.8297e-06\n",
            "Epoch 15/50\n",
            "180/180 [==============================] - 5s 27ms/sample - loss: 0.0705 - acc: 3.8297e-06 - val_loss: 0.0790 - val_acc: 3.8297e-06\n",
            "Epoch 16/50\n",
            "180/180 [==============================] - 5s 26ms/sample - loss: 0.0703 - acc: 3.8297e-06 - val_loss: 0.0803 - val_acc: 3.8297e-06\n",
            "Epoch 17/50\n",
            "180/180 [==============================] - 5s 27ms/sample - loss: 0.0701 - acc: 3.8297e-06 - val_loss: 0.0774 - val_acc: 3.8297e-06\n",
            "Epoch 18/50\n",
            "180/180 [==============================] - 5s 26ms/sample - loss: 0.0701 - acc: 3.8297e-06 - val_loss: 0.0750 - val_acc: 3.8297e-06\n",
            "Epoch 19/50\n",
            "180/180 [==============================] - 5s 26ms/sample - loss: 0.0699 - acc: 3.8297e-06 - val_loss: 0.0769 - val_acc: 3.8297e-06\n",
            "Epoch 20/50\n",
            "180/180 [==============================] - 5s 27ms/sample - loss: 0.0699 - acc: 3.8297e-06 - val_loss: 0.0804 - val_acc: 3.8297e-06\n",
            "Epoch 21/50\n",
            "180/180 [==============================] - 5s 27ms/sample - loss: 0.0697 - acc: 3.8297e-06 - val_loss: 0.0766 - val_acc: 3.8297e-06\n",
            "Epoch 22/50\n",
            "180/180 [==============================] - 5s 26ms/sample - loss: 0.0697 - acc: 3.8297e-06 - val_loss: 0.0806 - val_acc: 3.8297e-06\n",
            "Epoch 23/50\n",
            "180/180 [==============================] - 5s 26ms/sample - loss: 0.0696 - acc: 3.8297e-06 - val_loss: 0.0768 - val_acc: 3.8297e-06\n",
            "Epoch 24/50\n",
            "180/180 [==============================] - 5s 26ms/sample - loss: 0.0695 - acc: 3.8297e-06 - val_loss: 0.0726 - val_acc: 3.8297e-06\n",
            "Epoch 25/50\n",
            "180/180 [==============================] - 5s 26ms/sample - loss: 0.0698 - acc: 3.8297e-06 - val_loss: 0.0711 - val_acc: 3.8297e-06\n",
            "Epoch 26/50\n",
            "180/180 [==============================] - 5s 26ms/sample - loss: 0.0696 - acc: 3.8297e-06 - val_loss: 0.0775 - val_acc: 3.8297e-06\n",
            "Epoch 27/50\n",
            "180/180 [==============================] - 5s 26ms/sample - loss: 0.0694 - acc: 3.8297e-06 - val_loss: 0.0781 - val_acc: 3.8297e-06\n",
            "Epoch 28/50\n",
            "180/180 [==============================] - 5s 26ms/sample - loss: 0.0693 - acc: 3.8297e-06 - val_loss: 0.0784 - val_acc: 3.8297e-06\n",
            "Epoch 29/50\n",
            "180/180 [==============================] - 5s 26ms/sample - loss: 0.0693 - acc: 3.8297e-06 - val_loss: 0.0842 - val_acc: 3.8297e-06\n",
            "Epoch 30/50\n",
            "180/180 [==============================] - 5s 27ms/sample - loss: 0.0692 - acc: 3.8297e-06 - val_loss: 0.0768 - val_acc: 3.8297e-06\n",
            "Epoch 31/50\n",
            "180/180 [==============================] - 5s 26ms/sample - loss: 0.0692 - acc: 3.8297e-06 - val_loss: 0.0770 - val_acc: 3.8297e-06\n",
            "Epoch 32/50\n",
            "180/180 [==============================] - 5s 26ms/sample - loss: 0.0692 - acc: 3.8297e-06 - val_loss: 0.0796 - val_acc: 3.8297e-06\n",
            "Epoch 33/50\n",
            "180/180 [==============================] - 5s 26ms/sample - loss: 0.0693 - acc: 3.8297e-06 - val_loss: 0.0771 - val_acc: 3.8297e-06\n",
            "Epoch 34/50\n",
            "180/180 [==============================] - 5s 26ms/sample - loss: 0.0692 - acc: 3.8297e-06 - val_loss: 0.0908 - val_acc: 3.8297e-06\n",
            "Epoch 35/50\n",
            "180/180 [==============================] - 5s 27ms/sample - loss: 0.0691 - acc: 3.8297e-06 - val_loss: 0.0776 - val_acc: 3.8297e-06\n",
            "Epoch 36/50\n",
            "180/180 [==============================] - 5s 27ms/sample - loss: 0.0736 - acc: 3.7658e-06 - val_loss: 0.0752 - val_acc: 3.8297e-06\n",
            "Epoch 37/50\n",
            "180/180 [==============================] - 5s 27ms/sample - loss: 0.0780 - acc: 3.7020e-06 - val_loss: 0.0731 - val_acc: 3.8297e-06\n",
            "Epoch 38/50\n",
            "180/180 [==============================] - 5s 27ms/sample - loss: 0.0710 - acc: 3.8297e-06 - val_loss: 0.0724 - val_acc: 3.8297e-06\n",
            "Epoch 39/50\n",
            "180/180 [==============================] - 5s 26ms/sample - loss: 0.0701 - acc: 3.8297e-06 - val_loss: 0.0760 - val_acc: 3.8297e-06\n",
            "Epoch 40/50\n",
            "180/180 [==============================] - 5s 27ms/sample - loss: 0.0696 - acc: 3.8297e-06 - val_loss: 0.0751 - val_acc: 3.8297e-06\n",
            "Epoch 41/50\n",
            "180/180 [==============================] - 5s 27ms/sample - loss: 0.0694 - acc: 3.8297e-06 - val_loss: 0.0745 - val_acc: 3.8297e-06\n",
            "Epoch 42/50\n",
            "180/180 [==============================] - 5s 27ms/sample - loss: 0.0694 - acc: 3.8297e-06 - val_loss: 0.0793 - val_acc: 3.8297e-06\n",
            "Epoch 43/50\n",
            "180/180 [==============================] - 5s 26ms/sample - loss: 0.0692 - acc: 3.8297e-06 - val_loss: 0.0867 - val_acc: 3.8297e-06\n",
            "Epoch 44/50\n",
            "180/180 [==============================] - 5s 26ms/sample - loss: 0.0692 - acc: 3.8297e-06 - val_loss: 0.0828 - val_acc: 3.8297e-06\n",
            "Epoch 45/50\n",
            "180/180 [==============================] - 5s 26ms/sample - loss: 0.0691 - acc: 3.8297e-06 - val_loss: 0.0740 - val_acc: 3.8297e-06\n",
            "Epoch 46/50\n",
            "180/180 [==============================] - 5s 26ms/sample - loss: 0.0692 - acc: 3.8297e-06 - val_loss: 0.0806 - val_acc: 3.8297e-06\n",
            "Epoch 47/50\n",
            "180/180 [==============================] - 5s 26ms/sample - loss: 0.0690 - acc: 3.8297e-06 - val_loss: 0.0781 - val_acc: 3.8297e-06\n",
            "Epoch 48/50\n",
            "180/180 [==============================] - 5s 26ms/sample - loss: 0.0690 - acc: 3.8297e-06 - val_loss: 0.0799 - val_acc: 3.8297e-06\n",
            "Epoch 49/50\n",
            "180/180 [==============================] - 5s 26ms/sample - loss: 0.0690 - acc: 3.8297e-06 - val_loss: 0.0761 - val_acc: 3.8297e-06\n",
            "Epoch 50/50\n",
            "180/180 [==============================] - 5s 26ms/sample - loss: 0.0690 - acc: 3.8297e-06 - val_loss: 0.0785 - val_acc: 3.8297e-06\n"
          ],
          "name": "stdout"
        }
      ]
    },
    {
      "cell_type": "markdown",
      "metadata": {
        "_uuid": "2d1c806e6c6e46916ffb40b5e2848c66c33ed719",
        "colab_type": "text",
        "id": "sCcUy20ki_Pa"
      },
      "source": [
        "# Step 6 : History visulization\n"
      ]
    },
    {
      "cell_type": "code",
      "metadata": {
        "_uuid": "cd19d9fa10edf4cd89f178db0291be76dbdcbfef",
        "colab_type": "code",
        "id": "U2y4NEsxi_Pe",
        "outputId": "921f1925-1a93-4dea-af77-4395cff4dd7c",
        "colab": {
          "base_uri": "https://localhost:8080/",
          "height": 295
        }
      },
      "source": [
        "# summarize history for loss\n",
        "plt.plot(history.history['loss'])\n",
        "plt.plot(history.history['val_loss'])\n",
        "plt.title('FCN model loss')\n",
        "plt.ylabel('loss')\n",
        "plt.xlabel('epoch')\n",
        "plt.legend(['train', 'test'], loc='upper left')\n",
        "plt.show()"
      ],
      "execution_count": 28,
      "outputs": [
        {
          "output_type": "display_data",
          "data": {
            "image/png": "[encoded data removed]",
            "text/plain": [
              "<Figure size 432x288 with 1 Axes>"
            ]
          },
          "metadata": {
            "tags": []
          }
        }
      ]
    },
    {
      "cell_type": "markdown",
      "metadata": {
        "_uuid": "857f705a561f046a1d63ffa17a8a0b1e8da16ff5",
        "colab_type": "text",
        "id": "PJUE121qi_Ps"
      },
      "source": [
        "# Step 7: Evaluation\n",
        "\n"
      ]
    },
    {
      "cell_type": "code",
      "metadata": {
        "_uuid": "2d1658a1c2ea5379e1e2064f7fcd5ff1313046a4",
        "colab_type": "code",
        "id": "jD72Ohxji_Pv",
        "outputId": "1659d17a-f213-41eb-82f0-5aac5cc7e09c",
        "colab": {
          "base_uri": "https://localhost:8080/",
          "height": 290
        }
      },
      "source": [
        "#get mean euclidean distance\n",
        "def mean_euclidean_distance(gt,prediction):\n",
        "  store=[]\n",
        "  error=gt-prediction\n",
        "  for i in range(z_test.shape[0]):\n",
        "    distance=np.sqrt(np.sum(np.square(error[i])))\n",
        "    store.append(distance)\n",
        "  s=np.array(store)\n",
        "  return np.mean(s)\n",
        "    \n",
        "#evaluation\n",
        "result=model.predict(x_test)\n",
        "result=np.squeeze(result, axis=(3,))\n",
        "gt=np.squeeze(y_test, axis=(3,))\n",
        "a=result[0,:,:]\n",
        "print(\"coordinate label of the first sample:\",z_test[1])\n",
        "landmark=[int(np.where(b==np.max(b))[1]),int(np.where(b==np.max(b))[0])]\n",
        "print(\"coordinate prediction of the first sample:\",landmark)\n",
        "\n",
        "#plot some examples\n",
        "plt.subplot(1,2,1)\n",
        "plt.imshow(gt[0])\n",
        "plt.title(\"ground truth\")\n",
        "plt.subplot(1,2,2)\n",
        "plt.imshow(a)\n",
        "plt.title(\"heatmap prediction\")\n",
        "plt.show()\n",
        "\n",
        "#overall mean distance error\n",
        "predict=[]\n",
        "for i in range(result.shape[0]):\n",
        "  landmarks=[int(np.where(result[i,:,:]==np.max(result[i,:,:]))[1]),int(np.where(result[i,:,:]==np.max(result[i,:,:]))[0])]\n",
        "  predict.append(landmarks)\n",
        "prediction=np.array(predict)\n",
        "r=mean_euclidean_distance(z_test,prediction)\n",
        "print(\"overall mean distance error is\",str(r))\n"
      ],
      "execution_count": 30,
      "outputs": [
        {
          "output_type": "stream",
          "text": [
            "coordinate label of the first sample: [304 486]\n",
            "coordinate prediction of the first sample: [309, 486]\n"
          ],
          "name": "stdout"
        },
        {
          "output_type": "display_data",
          "data": {
            "image/png": "[encoded data removed]",
            "text/plain": [
              "<Figure size 432x288 with 2 Axes>"
            ]
          },
          "metadata": {
            "tags": []
          }
        },
        {
          "output_type": "stream",
          "text": [
            "overall mean distance error is 3.8953793941626627\n"
          ],
          "name": "stdout"
        }
      ]
    }
  ]
}