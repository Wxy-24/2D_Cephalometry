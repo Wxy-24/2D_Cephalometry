{
  "nbformat": 4,
  "nbformat_minor": 0,
  "metadata": {
    "accelerator": "GPU",
    "colab": {
      "name": "Cephalometry_regression.ipynb",
      "provenance": [],
      "collapsed_sections": [],
      "machine_shape": "hm"
    },
    "kernelspec": {
      "display_name": "Python 3",
      "language": "python",
      "name": "python3"
    },
    "language_info": {
      "codemirror_mode": {
        "name": "ipython",
        "version": 3
      },
      "file_extension": ".py",
      "mimetype": "text/x-python",
      "name": "python",
      "nbconvert_exporter": "python",
      "pygments_lexer": "ipython3",
      "version": "3.7.4"
    }
  },
  "cells": [
    {
      "cell_type": "markdown",
      "metadata": {
        "_uuid": "f0cabcad77a2253757f400696d74a8a30c2e4cc9",
        "colab_type": "text",
        "id": "5jmtqQTNi_Nk"
      },
      "source": [
        "# **cephalometry project:**\n",
        "## **2D cephalometry landmark localization with CNN** \n",
        "\n",
        "\n",
        "\n",
        "\n"
      ]
    },
    {
      "cell_type": "markdown",
      "metadata": {
        "_uuid": "3ce2b3bf606c3bf06d9f61249f580a55812f9e42",
        "colab_type": "text",
        "id": "doqWzi26i_Nm"
      },
      "source": [
        "# Step 1 : Auxiliary steps\n",
        "\n",
        " importing essential python libraries"
      ]
    },
    {
      "cell_type": "code",
      "metadata": {
        "_cell_guid": "b1076dfc-b9ad-4769-8c92-a6c4dae69d19",
        "_uuid": "8f2839f25d086af736a60e9eeb907d3b93b6e0e5",
        "colab_type": "code",
        "id": "wQzaGiezi_No",
        "outputId": "530a70c6-88e7-4294-df88-368dd0782cc7",
        "colab": {
          "base_uri": "https://localhost:8080/",
          "height": 83
        }
      },
      "source": [
        "%matplotlib inline\n",
        "import cv2\n",
        "import sys\n",
        "import tensorflow as tf\n",
        "import numpy as np\n",
        "import skimage.io as io\n",
        "import os\n",
        "from sklearn.model_selection import train_test_split\n",
        "from math import*\n",
        "from tensorflow.keras.models import *\n",
        "from tensorflow.keras.layers import *\n",
        "from tensorflow.keras.optimizers import *\n",
        "from tensorflow.keras.callbacks import *\n",
        "import keras\n",
        "from keras import backend as K\n",
        "from keras.preprocessing.image import ImageDataGenerator\n",
        "import matplotlib.pyplot as plt\n",
        "from keras.layers import LeakyReLU\n",
        "from scipy.ndimage.interpolation import zoom"
      ],
      "execution_count": 1,
      "outputs": [
        {
          "output_type": "display_data",
          "data": {
            "text/html": [
              "<p style=\"color: red;\">\n",
              "The default version of TensorFlow in Colab will soon switch to TensorFlow 2.x.<br>\n",
              "We recommend you <a href=\"https://www.tensorflow.org/guide/migrate\" target=\"_blank\">upgrade</a> now \n",
              "or ensure your notebook will continue to use TensorFlow 1.x via the <code>%tensorflow_version 1.x</code> magic:\n",
              "<a href=\"https://colab.research.google.com/notebooks/tensorflow_version.ipynb\" target=\"_blank\">more info</a>.</p>\n"
            ],
            "text/plain": [
              "<IPython.core.display.HTML object>"
            ]
          },
          "metadata": {
            "tags": []
          }
        },
        {
          "output_type": "stream",
          "text": [
            "Using TensorFlow backend.\n"
          ],
          "name": "stderr"
        }
      ]
    },
    {
      "cell_type": "markdown",
      "metadata": {
        "_uuid": "c170def1ed6bd1e279dc6d5ae86a95cf6cfd2efb",
        "colab_type": "text",
        "id": "J78Y6OhRi_Nx"
      },
      "source": [
        "# Step 2 : Creating dataset"
      ]
    },
    {
      "cell_type": "code",
      "metadata": {
        "_cell_guid": "79c7e3d0-c299-4dcb-8224-4455121ee9b0",
        "_uuid": "d629ff2d2480ee46fbb7e2d37f6b5fab8052498a",
        "colab_type": "code",
        "id": "vdjg_1sLi_Ny",
        "colab": {}
      },
      "source": [
        "#create dataset\n",
        "train=[]\n",
        "label=[]\n",
        "for i in range(1,301):\n",
        "    img = io.imread(os.path.join(\"drive/My Drive/Cephalometry_2d_final/RawImage/TrainingData\", \"%d_crop.bmp\" % i),)\n",
        "    img=img[0:2176,:]\n",
        "    img = zoom(img, zoom=0.25, order=1)\n",
        "    train.append(img)\n",
        "for j in range(1,301):\n",
        "    f = open(os.path.join(\"drive/My Drive/Cephalometry_2d_final/400_senior\", \"%d.txt\" % j))\n",
        "    fp = open(os.path.join(\"drive/My Drive/Cephalometry_2d_final/400_junior\", \"%d.txt\" % j))\n",
        "    line=f.readlines()\n",
        "    linep=fp.readlines()\n",
        "    y=(int(line[8].split(',')[1])+int(linep[8].split(',')[1])-200)//8\n",
        "    x=(int(line[8].split(',')[0])+int(linep[8].split(',')[0]))//8\n",
        "    coordinate=np.array([x,y])\n",
        "    label.append(coordinate)\n",
        "x_train=np.array(train)\n",
        "y_train=np.array(label)\n"
      ],
      "execution_count": 0,
      "outputs": []
    },
    {
      "cell_type": "markdown",
      "metadata": {
        "_uuid": "81603d003c5cea8f6e76a1bb69aa4c29a89eebc8",
        "colab_type": "text",
        "id": "b4tQaw_Zi_N2"
      },
      "source": [
        "# Step 3 :Train-Test split\n"
      ]
    },
    {
      "cell_type": "code",
      "metadata": {
        "_uuid": "68f34a08751a6e16569818ce8b18d9fca93223ad",
        "colab_type": "code",
        "id": "1UPP0YxYi_N3",
        "colab": {}
      },
      "source": [
        "x_train=np.expand_dims(x_train,axis=3)\n",
        "x_train, x_test, y_train, y_test =train_test_split(x_train,y_train, test_size=0.2, random_state=6)\n",
        "x_train, x_validate, y_train, y_validate =train_test_split(x_train,y_train, test_size=0.25, random_state=6)"
      ],
      "execution_count": 0,
      "outputs": []
    },
    {
      "cell_type": "markdown",
      "metadata": {
        "colab_type": "text",
        "id": "T99JnSma8En2"
      },
      "source": [
        "Check the shape of dataset"
      ]
    },
    {
      "cell_type": "code",
      "metadata": {
        "_uuid": "0de2d23671ac649a0e20f426fb891a4e8f7e903a",
        "colab_type": "code",
        "id": "85SJAhgii_N7",
        "outputId": "c0c84a25-dd8a-4467-a177-862de38d28e2",
        "colab": {
          "base_uri": "https://localhost:8080/",
          "height": 53
        }
      },
      "source": [
        "print(x_train.shape)\n",
        "print(y_train.shape)"
      ],
      "execution_count": 0,
      "outputs": [
        {
          "output_type": "stream",
          "text": [
            "(180, 544, 480, 1)\n",
            "(180, 2)\n"
          ],
          "name": "stdout"
        }
      ]
    },
    {
      "cell_type": "markdown",
      "metadata": {
        "id": "8kV6eLQ5yUij",
        "colab_type": "text"
      },
      "source": [
        "define loss function for CNN model"
      ]
    },
    {
      "cell_type": "code",
      "metadata": {
        "id": "bE6fjw--NOOP",
        "colab_type": "code",
        "colab": {}
      },
      "source": [
        "def euclidean_distance(y_true, y_pred):\n",
        "  return K.mean(K.sqrt(K.sum(K.square(y_pred-y_true),axis=-1)))"
      ],
      "execution_count": 0,
      "outputs": []
    },
    {
      "cell_type": "markdown",
      "metadata": {
        "_uuid": "759026191d74e7d94ac08d81121913d06a053a1d",
        "colab_type": "text",
        "id": "5N9MdkBbi_OT"
      },
      "source": [
        "# Step 4: Define the model\n",
        "\n",
        "#YOLO V1 \n",
        "\n"
      ]
    },
    {
      "cell_type": "code",
      "metadata": {
        "_uuid": "fc479dfe198cd5b781573f5c17c3a052d4fe196f",
        "colab_type": "code",
        "id": "i9CwRF23i_OW",
        "colab": {}
      },
      "source": [
        "input_shape = x_train[0].shape\n",
        "\n",
        "# Convolution block 0\n",
        "model = Sequential()\n",
        "model.add(Conv2D(filters=16, kernel_size=(7, 7), strides=(2, 2), padding='same',activation=tf.keras.layers.LeakyReLU(alpha=0.1),input_shape =input_shape))\n",
        "model.add(BatchNormalization())\n",
        "model.add(MaxPool2D(pool_size=(2, 2),strides=(2, 2)))\n",
        "\n",
        "# Convolution block 1\n",
        "model.add(Conv2D(filters=48, kernel_size=(3, 3), strides=(1, 1), padding='same',activation=tf.keras.layers.LeakyReLU(alpha=0.1),input_shape =input_shape))\n",
        "model.add(BatchNormalization())\n",
        "model.add(MaxPool2D(pool_size=(2, 2),strides=(2, 2)))\n",
        "\n",
        "# Convolution block 2\n",
        "model.add(Conv2D(filters=16, kernel_size=(1, 1), strides=(1, 1), padding='same',activation=tf.keras.layers.LeakyReLU(alpha=0.1)))\n",
        "model.add(Conv2D(filters=32, kernel_size=(3, 3), strides=(1, 1), padding='same',activation=tf.keras.layers.LeakyReLU(alpha=0.1)))\n",
        "model.add(Conv2D(filters=16, kernel_size=(1, 1), strides=(1, 1), padding='same',activation=tf.keras.layers.LeakyReLU(alpha=0.1)))\n",
        "model.add(Conv2D(filters=32, kernel_size=(3, 3), strides=(1, 1), padding='same',activation=tf.keras.layers.LeakyReLU(alpha=0.1)))\n",
        "model.add(BatchNormalization())\n",
        "model.add(MaxPool2D(pool_size=(2, 2),strides=(2, 2)))\n",
        "\n",
        "# Convolution block 3\n",
        "model.add(Conv2D(filters=32, kernel_size=(1, 1), strides=(1, 1), padding='same',activation=tf.keras.layers.LeakyReLU(alpha=0.1)))\n",
        "model.add(Conv2D(filters=64, kernel_size=(3, 3), strides=(1, 1), padding='same',activation=tf.keras.layers.LeakyReLU(alpha=0.1)))\n",
        "model.add(Conv2D(filters=32, kernel_size=(1, 1), strides=(1, 1), padding='same',activation=tf.keras.layers.LeakyReLU(alpha=0.1)))\n",
        "model.add(Conv2D(filters=64, kernel_size=(3, 3), strides=(1, 1), padding='same',activation=tf.keras.layers.LeakyReLU(alpha=0.1)))\n",
        "model.add(Conv2D(filters=32, kernel_size=(1, 1), strides=(1, 1), padding='same',activation=tf.keras.layers.LeakyReLU(alpha=0.1)))\n",
        "model.add(Conv2D(filters=64, kernel_size=(3, 3), strides=(1, 1), padding='same',activation=tf.keras.layers.LeakyReLU(alpha=0.1)))\n",
        "model.add(Conv2D(filters=32, kernel_size=(1, 1), strides=(1, 1), padding='same',activation=tf.keras.layers.LeakyReLU(alpha=0.1)))\n",
        "model.add(Conv2D(filters=64, kernel_size=(3, 3), strides=(1, 1), padding='same',activation=tf.keras.layers.LeakyReLU(alpha=0.1)))\n",
        "model.add(Conv2D(filters=64, kernel_size=(1, 1), strides=(1, 1), padding='same',activation=tf.keras.layers.LeakyReLU(alpha=0.1)))\n",
        "model.add(Conv2D(filters=128, kernel_size=(3, 3), strides=(1, 1), padding='same',activation=tf.keras.layers.LeakyReLU(alpha=0.1)))\n",
        "model.add(MaxPool2D(pool_size=(2, 2),strides=(2, 2)))\n",
        "\n",
        "# Convolution block 4\n",
        "model.add(Conv2D(filters=128, kernel_size=(1, 1), strides=(1, 1), padding='same',activation=tf.keras.layers.LeakyReLU(alpha=0.1)))\n",
        "model.add(Conv2D(filters=256, kernel_size=(3, 3), strides=(1, 1), padding='same',activation=tf.keras.layers.LeakyReLU(alpha=0.1)))\n",
        "model.add(Conv2D(filters=128, kernel_size=(1, 1), strides=(1, 1), padding='same',activation=tf.keras.layers.LeakyReLU(alpha=0.1)))\n",
        "model.add(Conv2D(filters=256, kernel_size=(3, 3), strides=(1, 1), padding='same',activation=tf.keras.layers.LeakyReLU(alpha=0.1)))\n",
        "model.add(Conv2D(filters=256, kernel_size=(3, 3), strides=(1, 1), padding='same',activation=tf.keras.layers.LeakyReLU(alpha=0.1)))\n",
        "model.add(Conv2D(filters=256, kernel_size=(3, 3), strides=(2, 2), padding='same',activation=tf.keras.layers.LeakyReLU(alpha=0.1)))\n",
        "\n",
        "\n",
        "# Convolution block 5\n",
        "model.add(Conv2D(filters=256, kernel_size=(3, 3), strides=(1, 1), padding='same',activation=tf.keras.layers.LeakyReLU(alpha=0.1)))\n",
        "model.add(Conv2D(filters=256, kernel_size=(3, 3), strides=(1, 1), padding='same',activation=tf.keras.layers.LeakyReLU(alpha=0.1)))\n",
        "\n",
        "\n",
        "#flatten and softmax\n",
        "model.add(Flatten())\n",
        "model.add(Dense(units=256))\n",
        "model.add(Dense(units=128))\n",
        "model.add(Dense(units=1024))\n",
        "model.add(Dropout(0.25))\n",
        "model.add(Dense(units=2, activation='linear'))\n",
        "\n",
        "# Define the optimizer\n",
        "\n",
        "keras.optimizers.Adam(lr=0.001, beta_1=0.9, beta_2=0.999, epsilon=None, decay=0.0, amsgrad=False)\n",
        "# Compile the model\n",
        "\n",
        "model.compile(loss=euclidean_distance,optimizer='Adam', metrics=[\"accuracy\"])"
      ],
      "execution_count": 0,
      "outputs": []
    },
    {
      "cell_type": "markdown",
      "metadata": {
        "_uuid": "92f3186f6f1106f3ec491d99313b506eb514f011",
        "colab_type": "text",
        "id": "d2zi4rgZi_O_"
      },
      "source": [
        "# Step 5: data augmentation\n",
        "\n"
      ]
    },
    {
      "cell_type": "code",
      "metadata": {
        "colab_type": "code",
        "id": "s8LUgbiYcYoj",
        "colab": {}
      },
      "source": [
        "datagen = ImageDataGenerator(\n",
        "        featurewise_center=False,  # set input mean to 0 over the dataset\n",
        "        samplewise_center=False,  # set each sample mean to 0\n",
        "        featurewise_std_normalization=False,  # divide inputs by std of the dataset\n",
        "        samplewise_std_normalization=False,  # divide each input by its std\n",
        "        zca_whitening=False,  # apply ZCA whitening\n",
        "        rotation_range=False,  # randomly rotate images in the range (degrees, 0 to 180)\n",
        "        zoom_range = False, # Randomly zoom image\n",
        "        width_shift_range=False,  # randomly shift images horizontally (fraction of total width)\n",
        "        height_shift_range=False,  # randomly shift images vertically (fraction of total height)\n",
        "        horizontal_flip=True,  # randomly flip images\n",
        "        vertical_flip=True)  # randomly flip images\n",
        "\n",
        "datagen.fit(x_train)\n"
      ],
      "execution_count": 0,
      "outputs": []
    },
    {
      "cell_type": "markdown",
      "metadata": {
        "_uuid": "6e983d68b0a343bdf313ccb70c7cd38afd32c89b",
        "colab_type": "text",
        "id": "Bq0JLDJji_PV"
      },
      "source": [
        "# Step 6 : Training\n"
      ]
    },
    {
      "cell_type": "code",
      "metadata": {
        "_uuid": "3fe1228e7657f49d7323adc36c865790e9ac05eb",
        "colab_type": "code",
        "id": "QhF-jiF9i_PW",
        "outputId": "7938b636-7756-486b-ab73-372555ad1668",
        "colab": {
          "base_uri": "https://localhost:8080/",
          "height": 1000
        }
      },
      "source": [
        "epochs = 20\n",
        "batch_size = 5\n",
        "model_checkpoint = ModelCheckpoint('cnn_regression.hdf5', monitor='loss',verbose=1, save_best_only=True)\n",
        "history = model.fit_generator(datagen.flow(x_train,y_train, batch_size=batch_size),\n",
        "                              epochs = epochs, validation_data = (x_validate,y_validate),\n",
        "                              verbose = 1, steps_per_epoch=x_train.shape[0] // batch_size)"
      ],
      "execution_count": 0,
      "outputs": [
        {
          "output_type": "stream",
          "text": [
            "Epoch 1/20\n",
            "35/36 [============================>.] - ETA: 0s - loss: 479.9733 - acc: 0.9486Epoch 1/20\n",
            "60/36 [==================================================] - 2s 27ms/sample - loss: 140.1239 - acc: 1.0000\n",
            "36/36 [==============================] - 9s 250ms/step - loss: 472.9926 - acc: 0.9500 - val_loss: 142.3257 - val_acc: 1.0000\n",
            "Epoch 2/20\n",
            "35/36 [============================>.] - ETA: 0s - loss: 85.5777 - acc: 1.0000Epoch 1/20\n",
            "60/36 [==================================================] - 0s 4ms/sample - loss: 33.6465 - acc: 1.0000\n",
            "36/36 [==============================] - 2s 69ms/step - loss: 84.8515 - acc: 1.0000 - val_loss: 32.9754 - val_acc: 1.0000\n",
            "Epoch 3/20\n",
            "35/36 [============================>.] - ETA: 0s - loss: 66.8040 - acc: 1.0000Epoch 1/20\n",
            "60/36 [==================================================] - 0s 4ms/sample - loss: 70.1898 - acc: 1.0000\n",
            "36/36 [==============================] - 2s 69ms/step - loss: 65.9185 - acc: 1.0000 - val_loss: 71.6209 - val_acc: 1.0000\n",
            "Epoch 4/20\n",
            "35/36 [============================>.] - ETA: 0s - loss: 58.6276 - acc: 1.0000Epoch 1/20\n",
            "60/36 [==================================================] - 0s 4ms/sample - loss: 58.5429 - acc: 1.0000\n",
            "36/36 [==============================] - 2s 69ms/step - loss: 58.8087 - acc: 1.0000 - val_loss: 56.6299 - val_acc: 1.0000\n",
            "Epoch 5/20\n",
            "35/36 [============================>.] - ETA: 0s - loss: 104.9538 - acc: 1.0000Epoch 1/20\n",
            "60/36 [==================================================] - 0s 4ms/sample - loss: 57.1145 - acc: 1.0000\n",
            "36/36 [==============================] - 2s 69ms/step - loss: 103.6755 - acc: 1.0000 - val_loss: 59.2546 - val_acc: 1.0000\n",
            "Epoch 6/20\n",
            "35/36 [============================>.] - ETA: 0s - loss: 53.5323 - acc: 1.0000Epoch 1/20\n",
            "60/36 [==================================================] - 0s 4ms/sample - loss: 94.6815 - acc: 1.0000\n",
            "36/36 [==============================] - 2s 69ms/step - loss: 53.1282 - acc: 1.0000 - val_loss: 92.6350 - val_acc: 1.0000\n",
            "Epoch 7/20\n",
            "35/36 [============================>.] - ETA: 0s - loss: 45.9796 - acc: 1.0000Epoch 1/20\n",
            "60/36 [==================================================] - 0s 4ms/sample - loss: 38.7479 - acc: 1.0000\n",
            "36/36 [==============================] - 2s 69ms/step - loss: 46.5236 - acc: 1.0000 - val_loss: 38.5265 - val_acc: 1.0000\n",
            "Epoch 8/20\n",
            "35/36 [============================>.] - ETA: 0s - loss: 56.4801 - acc: 1.0000Epoch 1/20\n",
            "60/36 [==================================================] - 0s 4ms/sample - loss: 79.7592 - acc: 1.0000\n",
            "36/36 [==============================] - 2s 69ms/step - loss: 56.3882 - acc: 1.0000 - val_loss: 77.7436 - val_acc: 1.0000\n",
            "Epoch 9/20\n",
            "35/36 [============================>.] - ETA: 0s - loss: 55.2483 - acc: 1.0000Epoch 1/20\n",
            "60/36 [==================================================] - 0s 4ms/sample - loss: 62.2523 - acc: 1.0000\n",
            "36/36 [==============================] - 2s 69ms/step - loss: 55.0671 - acc: 1.0000 - val_loss: 60.3910 - val_acc: 1.0000\n",
            "Epoch 10/20\n",
            "35/36 [============================>.] - ETA: 0s - loss: 55.8058 - acc: 1.0000Epoch 1/20\n",
            "60/36 [==================================================] - 0s 4ms/sample - loss: 45.9984 - acc: 1.0000\n",
            "36/36 [==============================] - 3s 70ms/step - loss: 55.8543 - acc: 1.0000 - val_loss: 45.1640 - val_acc: 1.0000\n",
            "Epoch 11/20\n",
            "35/36 [============================>.] - ETA: 0s - loss: 45.4322 - acc: 1.0000Epoch 1/20\n",
            "60/36 [==================================================] - 0s 4ms/sample - loss: 36.3985 - acc: 1.0000\n",
            "36/36 [==============================] - 2s 69ms/step - loss: 45.1130 - acc: 1.0000 - val_loss: 38.9656 - val_acc: 1.0000\n",
            "Epoch 12/20\n",
            "35/36 [============================>.] - ETA: 0s - loss: 40.4999 - acc: 1.0000Epoch 1/20\n",
            "60/36 [==================================================] - 0s 4ms/sample - loss: 88.7992 - acc: 1.0000\n",
            "36/36 [==============================] - 2s 69ms/step - loss: 42.5138 - acc: 1.0000 - val_loss: 86.7665 - val_acc: 1.0000\n",
            "Epoch 13/20\n",
            "35/36 [============================>.] - ETA: 0s - loss: 62.1213 - acc: 1.0000Epoch 1/20\n",
            "60/36 [==================================================] - 0s 4ms/sample - loss: 48.9294 - acc: 1.0000\n",
            "36/36 [==============================] - 3s 70ms/step - loss: 62.1969 - acc: 1.0000 - val_loss: 50.9661 - val_acc: 1.0000\n",
            "Epoch 14/20\n",
            "35/36 [============================>.] - ETA: 0s - loss: 50.0066 - acc: 1.0000Epoch 1/20\n",
            "60/36 [==================================================] - 0s 4ms/sample - loss: 50.8142 - acc: 1.0000\n",
            "36/36 [==============================] - 3s 69ms/step - loss: 50.2602 - acc: 1.0000 - val_loss: 49.1368 - val_acc: 1.0000\n",
            "Epoch 15/20\n",
            "35/36 [============================>.] - ETA: 0s - loss: 47.3233 - acc: 1.0000Epoch 1/20\n",
            "60/36 [==================================================] - 0s 4ms/sample - loss: 36.8012 - acc: 1.0000\n",
            "36/36 [==============================] - 3s 69ms/step - loss: 46.8128 - acc: 1.0000 - val_loss: 39.9557 - val_acc: 1.0000\n",
            "Epoch 16/20\n",
            "35/36 [============================>.] - ETA: 0s - loss: 51.8104 - acc: 1.0000Epoch 1/20\n",
            "60/36 [==================================================] - 0s 4ms/sample - loss: 104.4583 - acc: 1.0000\n",
            "36/36 [==============================] - 2s 69ms/step - loss: 52.0404 - acc: 1.0000 - val_loss: 102.3893 - val_acc: 1.0000\n",
            "Epoch 17/20\n",
            "35/36 [============================>.] - ETA: 0s - loss: 51.0050 - acc: 1.0000Epoch 1/20\n",
            "60/36 [==================================================] - 0s 4ms/sample - loss: 52.0396 - acc: 1.0000\n",
            "36/36 [==============================] - 3s 70ms/step - loss: 50.8902 - acc: 1.0000 - val_loss: 50.4584 - val_acc: 1.0000\n",
            "Epoch 18/20\n",
            "35/36 [============================>.] - ETA: 0s - loss: 44.1265 - acc: 1.0000Epoch 1/20\n",
            "60/36 [==================================================] - 0s 4ms/sample - loss: 40.4997 - acc: 1.0000\n",
            "36/36 [==============================] - 2s 69ms/step - loss: 44.6567 - acc: 1.0000 - val_loss: 43.5137 - val_acc: 1.0000\n",
            "Epoch 19/20\n",
            "35/36 [============================>.] - ETA: 0s - loss: 46.2011 - acc: 1.0000Epoch 1/20\n",
            "60/36 [==================================================] - 0s 4ms/sample - loss: 57.7574 - acc: 1.0000\n",
            "36/36 [==============================] - 3s 70ms/step - loss: 46.1709 - acc: 1.0000 - val_loss: 55.8555 - val_acc: 1.0000\n",
            "Epoch 20/20\n",
            "35/36 [============================>.] - ETA: 0s - loss: 43.4876 - acc: 1.0000Epoch 1/20\n",
            "60/36 [==================================================] - 0s 4ms/sample - loss: 33.6665 - acc: 1.0000\n",
            "36/36 [==============================] - 3s 70ms/step - loss: 43.2861 - acc: 1.0000 - val_loss: 33.7084 - val_acc: 1.0000\n"
          ],
          "name": "stdout"
        }
      ]
    },
    {
      "cell_type": "markdown",
      "metadata": {
        "_uuid": "2d1c806e6c6e46916ffb40b5e2848c66c33ed719",
        "colab_type": "text",
        "id": "sCcUy20ki_Pa"
      },
      "source": [
        "# Step 7 : History visulization\n"
      ]
    },
    {
      "cell_type": "code",
      "metadata": {
        "_uuid": "cd19d9fa10edf4cd89f178db0291be76dbdcbfef",
        "colab_type": "code",
        "id": "U2y4NEsxi_Pe",
        "outputId": "a8a0ff85-3753-4ff3-ca75-d3bd703c54e6",
        "colab": {
          "base_uri": "https://localhost:8080/",
          "height": 295
        }
      },
      "source": [
        "# summarize history for loss\n",
        "plt.plot(history.history['loss'])\n",
        "plt.plot(history.history['val_loss'])\n",
        "plt.title('CNN model loss')\n",
        "plt.ylabel('loss')\n",
        "plt.xlabel('epoch')\n",
        "plt.legend(['train', 'test'], loc='upper left')\n",
        "plt.show()"
      ],
      "execution_count": 0,
      "outputs": [
        {
          "output_type": "display_data",
          "data": {
            "image/png": "[encoded data removed]",
            "text/plain": [
              "<Figure size 432x288 with 1 Axes>"
            ]
          },
          "metadata": {
            "tags": []
          }
        }
      ]
    },
    {
      "cell_type": "markdown",
      "metadata": {
        "_uuid": "857f705a561f046a1d63ffa17a8a0b1e8da16ff5",
        "colab_type": "text",
        "id": "PJUE121qi_Ps"
      },
      "source": [
        "# Step 8: Evaluation\n",
        "\n"
      ]
    },
    {
      "cell_type": "code",
      "metadata": {
        "_uuid": "2d1658a1c2ea5379e1e2064f7fcd5ff1313046a4",
        "colab_type": "code",
        "id": "jD72Ohxji_Pv",
        "outputId": "acc1a747-9d2e-4d86-f12d-886d8d020154",
        "colab": {
          "base_uri": "https://localhost:8080/",
          "height": 35
        }
      },
      "source": [
        "#euclidean distance\n",
        "result=model.predict(x_test)\n",
        "error=result-y_test\n",
        "distance=[]\n",
        "for i in range(error.shape[0]):\n",
        "    ed=np.sqrt(error[i,0]**2+error[i,1]**2)\n",
        "    distance.append(ed)\n",
        "distance=np.array(distance)\n",
        "print(\"overall mean distance error is\",np.mean(distance))\n"
      ],
      "execution_count": 0,
      "outputs": [
        {
          "output_type": "stream",
          "text": [
            "overall mean distance error is 31.319557573206044\n"
          ],
          "name": "stdout"
        }
      ]
    }
  ]
}